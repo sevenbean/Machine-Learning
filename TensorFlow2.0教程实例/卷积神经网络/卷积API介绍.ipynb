{
 "cells": [
  {
   "cell_type": "markdown",
   "metadata": {},
   "source": [
    "import tensorflow as tf\n",
    "#卷积层API\n",
    "tf.keras.layers.Conv2D(\n",
    "    filter=卷积核个数\n",
    "    kernel_size=卷积核尺寸，（核高h，核宽w）\n",
    "    strides=滑动步长\n",
    "    padding=\"same\" or \"valid\"#使用全零填充是“same”,不使用是“valid”\n",
    "    activation=激活函数，如果这一层之后还有批标准化操作，则不写\n",
    "    input_shape=(高，宽，通道数)#输入特征图维度，可以省略\n",
    ")"
   ]
  }
 ],
 "metadata": {
  "kernelspec": {
   "display_name": "Python 3",
   "language": "python",
   "name": "python3"
  },
  "language_info": {
   "codemirror_mode": {
    "name": "ipython",
    "version": 3
   },
   "file_extension": ".py",
   "mimetype": "text/x-python",
   "name": "python",
   "nbconvert_exporter": "python",
   "pygments_lexer": "ipython3",
   "version": "3.7.7"
  }
 },
 "nbformat": 4,
 "nbformat_minor": 4
}
