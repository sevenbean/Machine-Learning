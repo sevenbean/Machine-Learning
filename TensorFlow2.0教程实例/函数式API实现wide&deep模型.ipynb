{
 "cells": [
  {
   "cell_type": "code",
   "execution_count": 17,
   "metadata": {},
   "outputs": [
    {
     "name": "stdout",
     "output_type": "stream",
     "text": [
      "Model: \"model_2\"\n",
      "__________________________________________________________________________________________________\n",
      "Layer (type)                    Output Shape         Param #     Connected to                     \n",
      "==================================================================================================\n",
      "input_18 (InputLayer)           [(None, 32)]         0                                            \n",
      "__________________________________________________________________________________________________\n",
      "dense_47 (Dense)                (None, 30)           990         input_18[0][0]                   \n",
      "__________________________________________________________________________________________________\n",
      "dense_48 (Dense)                (None, 30)           930         dense_47[0][0]                   \n",
      "__________________________________________________________________________________________________\n",
      "concatenate_15 (Concatenate)    (None, 62)           0           input_18[0][0]                   \n",
      "                                                                 dense_48[0][0]                   \n",
      "__________________________________________________________________________________________________\n",
      "input_19 (InputLayer)           [(None, 64)]         0                                            \n",
      "__________________________________________________________________________________________________\n",
      "dense_49 (Dense)                (None, 1)            63          concatenate_15[0][0]             \n",
      "__________________________________________________________________________________________________\n",
      "dense_50 (Dense)                (None, 1)            63          concatenate_15[0][0]             \n",
      "==================================================================================================\n",
      "Total params: 2,046\n",
      "Trainable params: 2,046\n",
      "Non-trainable params: 0\n",
      "__________________________________________________________________________________________________\n"
     ]
    }
   ],
   "source": [
    "import tensorflow as tf\n",
    "#函数式API\n",
    "inputs=tf.keras.Input(shape=(32,))\n",
    "inputs2=tf.keras.Input(shape=(64))\n",
    "hiddens1=tf.keras.layers.Dense(30,activation=\"relu\")(inputs)\n",
    "hiddens2=tf.keras.layers.Dense(30,activation=\"relu\")(hiddens1)\n",
    "concat=tf.keras.layers.concatenate([inputs,hiddens2])\n",
    "outputs=tf.keras.layers.Dense(1)(concat)\n",
    "outputs2=tf.keras.layers.Dense(1)(concat)\n",
    "# 需要对model定型\n",
    "model=tf.keras.Model(inputs=[inputs,inputs2],outputs=[outputs,outputs2])\n",
    "model.summary()"
   ]
  },
  {
   "cell_type": "code",
   "execution_count": 12,
   "metadata": {},
   "outputs": [
    {
     "name": "stdout",
     "output_type": "stream",
     "text": [
      "Model: \"model\"\n",
      "_________________________________________________________________\n",
      "Layer (type)                 Output Shape              Param #   \n",
      "=================================================================\n",
      "input_12 (InputLayer)        [(None, 3)]               0         \n",
      "_________________________________________________________________\n",
      "dense_32 (Dense)             (None, 4)                 16        \n",
      "_________________________________________________________________\n",
      "dense_33 (Dense)             (None, 5)                 25        \n",
      "=================================================================\n",
      "Total params: 41\n",
      "Trainable params: 41\n",
      "Non-trainable params: 0\n",
      "_________________________________________________________________\n"
     ]
    }
   ],
   "source": [
    "import tensorflow as tf\n",
    " \n",
    "inputs = tf.keras.Input(shape=(3,))\n",
    "x = tf.keras.layers.Dense(4, activation=tf.nn.relu)(inputs)\n",
    "outputs = tf.keras.layers.Dense(5, activation=tf.nn.softmax)(x)\n",
    "model = tf.keras.Model(inputs=inputs, outputs=outputs)\n",
    "model.summary()"
   ]
  },
  {
   "cell_type": "code",
   "execution_count": null,
   "metadata": {},
   "outputs": [],
   "source": []
  }
 ],
 "metadata": {
  "kernelspec": {
   "display_name": "Python 3",
   "language": "python",
   "name": "python3"
  },
  "language_info": {
   "codemirror_mode": {
    "name": "ipython",
    "version": 3
   },
   "file_extension": ".py",
   "mimetype": "text/x-python",
   "name": "python",
   "nbconvert_exporter": "python",
   "pygments_lexer": "ipython3",
   "version": "3.7.7"
  }
 },
 "nbformat": 4,
 "nbformat_minor": 4
}
