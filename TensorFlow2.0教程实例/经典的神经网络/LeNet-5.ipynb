{
 "cells": [
  {
   "cell_type": "code",
   "execution_count": null,
   "metadata": {},
   "outputs": [],
   "source": [
    "import tensorflow as tf\n",
    "from  tensorflow.keras import Model \n",
    "class LeNet5(Model):\n",
    "    def __init__(self):\n",
    "        super(LeNet5,self).__init__\n",
    "        self.con1=tf.keras.layers.Conv2D(filter=6,\n",
    "                                         kernel_size=(5,5),\n",
    "                                         activation='sigmoid')\n",
    "        self.p1=tf.keras.layers.MaxPool2D(kernel_size=(2,2),strides=2)\n",
    "        self.con2=tf.keras.layers.Conv2D(filters=16,\n",
    "                                         kernel_size=(5,5))\n",
    "        self.p2=tf.keras.layers.MaxPool2D(kernel_size=(2,2),strides=2)\n",
    "        self.flatten = Flatten()\n",
    "        self.f1 = Dense(120, activation='sigmoid')\n",
    "        self.f2 = Dense(84, activation='sigmoid')\n",
    "        self.f3 = Dense(10, activation='softmax')\n",
    "    def call(self,x):\n",
    "        x=self.con1(x)\n",
    "        x=self.p1(x)\n",
    "        x=self.con2(x)\n",
    "        x=self.p2(x)\n",
    "        x=self.flatten(x)\n",
    "        x=self.f1(x)\n",
    "        x=self.f2(x)\n",
    "        y=self.f3(x)\n",
    "        return y"
   ]
  }
 ],
 "metadata": {
  "kernelspec": {
   "display_name": "Python 3",
   "language": "python",
   "name": "python3"
  },
  "language_info": {
   "codemirror_mode": {
    "name": "ipython",
    "version": 3
   },
   "file_extension": ".py",
   "mimetype": "text/x-python",
   "name": "python",
   "nbconvert_exporter": "python",
   "pygments_lexer": "ipython3",
   "version": "3.7.7"
  }
 },
 "nbformat": 4,
 "nbformat_minor": 4
}
