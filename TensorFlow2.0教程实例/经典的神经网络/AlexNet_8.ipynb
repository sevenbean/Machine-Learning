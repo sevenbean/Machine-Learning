{
 "cells": [
  {
   "cell_type": "code",
   "execution_count": null,
   "metadata": {},
   "outputs": [],
   "source": [
    "import tensorflow as tf\n",
    "from tensorflow.keras import Model\n",
    "class AlexNet8(Model):\n",
    "    def __init__(self):\n",
    "        super(AlexNet8,self).__init__()\n",
    "        self.c1=tf.keras.layers.Conv2D(filters=96,kernel_size=(3,3))\n",
    "        self.b1=tf.keras.layers.BatchNormalization()\n",
    "        self.a1=tf.keras.layers.Activation(\"relu\")\n",
    "        self.p1=tf.keras.layers.MaxPool2D(pool_size=(3,3),strides=2)\n",
    "        self.c2=tf.keras.layers.Conv2D(filters=256,kernel_size=(3,3))\n",
    "        self.b2=tf.keras.layers.BatchNormalization()\n",
    "        self.a2=tf.keras.layers.Activation(\"relu\")\n",
    "        self.p2=MaxPool2D(pool_size=(3,3),strides=2)\n",
    "        self.c3 = Conv2D(filters=384, kernel_size=(3, 3), padding='same',\n",
    "                         activation='relu')\n",
    "                         \n",
    "        self.c4 = Conv2D(filters=384, kernel_size=(3, 3), padding='same',\n",
    "                         activation='relu')\n",
    "                         \n",
    "        self.c5 = Conv2D(filters=256, kernel_size=(3, 3), padding='same',\n",
    "                         activation='relu')\n",
    "        self.p3 = MaxPool2D(pool_size=(3, 3), strides=2)\n",
    "\n",
    "        self.flatten = Flatten()\n",
    "        self.f1 = Dense(2048, activation='relu')\n",
    "        self.d1 = Dropout(0.5)\n",
    "        self.f2 = Dense(2048, activation='relu')\n",
    "        self.d2 = Dropout(0.5)\n",
    "        self.f3 = Dense(10, activation='softmax')\n",
    "    def call(self, x):\n",
    "        x = self.c1(x)\n",
    "        x = self.b1(x)\n",
    "        x = self.a1(x)\n",
    "        x = self.p1(x)\n",
    "\n",
    "        x = self.c2(x)\n",
    "        x = self.b2(x)\n",
    "        x = self.a2(x)\n",
    "        x = self.p2(x)\n",
    "\n",
    "        x = self.c3(x)\n",
    "\n",
    "        x = self.c4(x)\n",
    "\n",
    "        x = self.c5(x)\n",
    "        x = self.p3(x)\n",
    "\n",
    "        x = self.flatten(x)\n",
    "        x = self.f1(x)\n",
    "        x = self.d1(x)\n",
    "        x = self.f2(x)\n",
    "        x = self.d2(x)\n",
    "        y = self.f3(x)\n",
    "        return y"
   ]
  }
 ],
 "metadata": {
  "kernelspec": {
   "display_name": "Python 3",
   "language": "python",
   "name": "python3"
  },
  "language_info": {
   "codemirror_mode": {
    "name": "ipython",
    "version": 3
   },
   "file_extension": ".py",
   "mimetype": "text/x-python",
   "name": "python",
   "nbconvert_exporter": "python",
   "pygments_lexer": "ipython3",
   "version": "3.7.7"
  }
 },
 "nbformat": 4,
 "nbformat_minor": 4
}
