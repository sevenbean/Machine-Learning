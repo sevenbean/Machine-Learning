{
 "cells": [
  {
   "cell_type": "code",
   "execution_count": 1,
   "metadata": {},
   "outputs": [
    {
     "name": "stdout",
     "output_type": "stream",
     "text": [
      "0         88.702\n",
      "1         87.355\n",
      "2         84.235\n",
      "3         84.592\n",
      "4         83.871\n",
      "          ...   \n",
      "2421    1221.000\n",
      "2422    1221.020\n",
      "2423    1206.000\n",
      "2424    1250.000\n",
      "2425    1248.000\n",
      "Name: open, Length: 2426, dtype: float64\n"
     ]
    }
   ],
   "source": [
    "import tensorflow as tf\n",
    "import pandas as pd\n",
    "import numpy as np\n",
    "import os\n",
    "from sklearn.preprocessing import MinMaxScaler,minmax_scale\n",
    "data_pd=pd.read_csv(\"SH600519.csv\")[\"open\"]\n",
    "print(data_pd)"
   ]
  },
  {
   "cell_type": "code",
   "execution_count": 2,
   "metadata": {},
   "outputs": [
    {
     "name": "stdout",
     "output_type": "stream",
     "text": [
      "2126\n",
      "300\n"
     ]
    }
   ],
   "source": [
    "train_set_values=data_pd[0:2426-300].values\n",
    "test_set_values=data_pd[2426-300:].values\n",
    "train_set_values=np.reshape(train_set_values,(len(train_set_values),1))\n",
    "test_set_values=np.reshape(test_set_values,(len(test_set_values),1))\n",
    "sc=MinMaxScaler(feature_range=(0, 1))\n",
    "train_set_values=sc.fit_transform(train_set_values)\n",
    "test_set_values=sc.fit_transform(test_set_values)\n",
    "print(len(train_set_values))\n",
    "print(len(test_set_values))"
   ]
  },
  {
   "cell_type": "code",
   "execution_count": 3,
   "metadata": {},
   "outputs": [
    {
     "name": "stdout",
     "output_type": "stream",
     "text": [
      "(240, 60, 1)\n",
      "(240,)\n",
      "(2066, 60, 1)\n",
      "(2066,)\n"
     ]
    }
   ],
   "source": [
    "train_x=[]\n",
    "train_y=[]\n",
    "for i in range(60,len(train_set_values)):\n",
    "    train_x.append(train_set_values[i-60:i,0])\n",
    "    train_y.append(train_set_values[i,0])\n",
    "train_x=np.reshape(train_x,(len(train_x),60,1))\n",
    "train_y=np.array(train_y)\n",
    "test_x=[]\n",
    "test_y=[]\n",
    "for i in range(60,len(test_set_values)):\n",
    "    test_x.append(test_set_values[i-60:i,0])\n",
    "    test_y.append(test_set_values[i,0])\n",
    "test_x=np.reshape(test_x,(len(test_x),60,1))\n",
    "test_y=np.array(test_y)\n",
    "print(test_x.shape)\n",
    "print(test_y.shape)\n",
    "print(train_x.shape)\n",
    "print(train_y.shape)"
   ]
  },
  {
   "cell_type": "code",
   "execution_count": 4,
   "metadata": {},
   "outputs": [
    {
     "name": "stdout",
     "output_type": "stream",
     "text": [
      "Train on 2066 samples, validate on 240 samples\n",
      "Epoch 1/50\n",
      "2066/2066 [==============================] - 27s 13ms/sample - loss: 0.0144 - accuracy: 4.8403e-04 - val_loss: 0.0090 - val_accuracy: 0.0042\n",
      "Epoch 2/50\n",
      "2066/2066 [==============================] - 10s 5ms/sample - loss: 0.0017 - accuracy: 4.8403e-04 - val_loss: 0.0055 - val_accuracy: 0.0042\n",
      "Epoch 3/50\n",
      "2066/2066 [==============================] - 11s 6ms/sample - loss: 0.0018 - accuracy: 4.8403e-04 - val_loss: 0.0054 - val_accuracy: 0.0042\n",
      "Epoch 4/50\n",
      "2066/2066 [==============================] - 12s 6ms/sample - loss: 0.0014 - accuracy: 4.8403e-04 - val_loss: 0.0054 - val_accuracy: 0.0042\n",
      "Epoch 5/50\n",
      "2066/2066 [==============================] - 11s 5ms/sample - loss: 0.0016 - accuracy: 4.8403e-04 - val_loss: 0.0051 - val_accuracy: 0.0042\n",
      "Epoch 6/50\n",
      "2066/2066 [==============================] - 13s 6ms/sample - loss: 0.0014 - accuracy: 4.8403e-04 - val_loss: 0.0056 - val_accuracy: 0.0042\n",
      "Epoch 7/50\n",
      "2066/2066 [==============================] - 14s 7ms/sample - loss: 0.0016 - accuracy: 4.8403e-04 - val_loss: 0.0062 - val_accuracy: 0.0042\n",
      "Epoch 8/50\n",
      "2066/2066 [==============================] - 13s 6ms/sample - loss: 0.0015 - accuracy: 4.8403e-04 - val_loss: 0.0056 - val_accuracy: 0.0042\n",
      "Epoch 9/50\n",
      "2066/2066 [==============================] - 13s 6ms/sample - loss: 0.0014 - accuracy: 4.8403e-04 - val_loss: 0.0051 - val_accuracy: 0.0042\n",
      "Epoch 10/50\n",
      "2066/2066 [==============================] - 13s 6ms/sample - loss: 0.0014 - accuracy: 4.8403e-04 - val_loss: 0.0049 - val_accuracy: 0.0042\n",
      "Epoch 11/50\n",
      "2066/2066 [==============================] - 13s 6ms/sample - loss: 0.0014 - accuracy: 4.8403e-04 - val_loss: 0.0052 - val_accuracy: 0.0042\n",
      "Epoch 12/50\n",
      "2066/2066 [==============================] - 13s 6ms/sample - loss: 0.0013 - accuracy: 4.8403e-04 - val_loss: 0.0047 - val_accuracy: 0.0042\n",
      "Epoch 13/50\n",
      "2066/2066 [==============================] - 12s 6ms/sample - loss: 0.0013 - accuracy: 4.8403e-04 - val_loss: 0.0046 - val_accuracy: 0.0042\n",
      "Epoch 14/50\n",
      "2066/2066 [==============================] - 11s 5ms/sample - loss: 0.0013 - accuracy: 4.8403e-04 - val_loss: 0.0045 - val_accuracy: 0.0042\n",
      "Epoch 15/50\n",
      "2066/2066 [==============================] - 12s 6ms/sample - loss: 0.0013 - accuracy: 4.8403e-04 - val_loss: 0.0044 - val_accuracy: 0.0042\n",
      "Epoch 16/50\n",
      "2066/2066 [==============================] - 12s 6ms/sample - loss: 0.0013 - accuracy: 4.8403e-04 - val_loss: 0.0054 - val_accuracy: 0.0042\n",
      "Epoch 17/50\n",
      "2066/2066 [==============================] - 12s 6ms/sample - loss: 0.0013 - accuracy: 4.8403e-04 - val_loss: 0.0044 - val_accuracy: 0.0042\n",
      "Epoch 18/50\n",
      "2066/2066 [==============================] - 12s 6ms/sample - loss: 0.0012 - accuracy: 4.8403e-04 - val_loss: 0.0046 - val_accuracy: 0.0042\n",
      "Epoch 19/50\n",
      "2066/2066 [==============================] - 12s 6ms/sample - loss: 0.0013 - accuracy: 4.8403e-04 - val_loss: 0.0041 - val_accuracy: 0.0042\n",
      "Epoch 20/50\n",
      "2066/2066 [==============================] - 11s 5ms/sample - loss: 0.0012 - accuracy: 4.8403e-04 - val_loss: 0.0047 - val_accuracy: 0.0042\n",
      "Epoch 21/50\n",
      "2066/2066 [==============================] - 11s 5ms/sample - loss: 0.0011 - accuracy: 4.8403e-04 - val_loss: 0.0041 - val_accuracy: 0.0042\n",
      "Epoch 22/50\n",
      "2066/2066 [==============================] - 10s 5ms/sample - loss: 0.0011 - accuracy: 4.8403e-04 - val_loss: 0.0039 - val_accuracy: 0.0042\n",
      "Epoch 23/50\n",
      "2066/2066 [==============================] - 10s 5ms/sample - loss: 0.0012 - accuracy: 4.8403e-04 - val_loss: 0.0048 - val_accuracy: 0.0042\n",
      "Epoch 24/50\n",
      "2066/2066 [==============================] - 12s 6ms/sample - loss: 0.0013 - accuracy: 4.8403e-04 - val_loss: 0.0040 - val_accuracy: 0.0042\n",
      "Epoch 25/50\n",
      "2066/2066 [==============================] - 12s 6ms/sample - loss: 0.0012 - accuracy: 4.8403e-04 - val_loss: 0.0052 - val_accuracy: 0.0042\n",
      "Epoch 26/50\n",
      "2066/2066 [==============================] - 10s 5ms/sample - loss: 0.0011 - accuracy: 4.8403e-04 - val_loss: 0.0038 - val_accuracy: 0.0042\n",
      "Epoch 27/50\n",
      "2066/2066 [==============================] - 10s 5ms/sample - loss: 0.0010 - accuracy: 4.8403e-04 - val_loss: 0.0038 - val_accuracy: 0.0042\n",
      "Epoch 28/50\n",
      "2066/2066 [==============================] - 10s 5ms/sample - loss: 0.0011 - accuracy: 4.8403e-04 - val_loss: 0.0046 - val_accuracy: 0.0042\n",
      "Epoch 29/50\n",
      "2066/2066 [==============================] - 11s 5ms/sample - loss: 0.0012 - accuracy: 4.8403e-04 - val_loss: 0.0036 - val_accuracy: 0.0042\n",
      "Epoch 30/50\n",
      "2066/2066 [==============================] - 9s 5ms/sample - loss: 0.0011 - accuracy: 4.8403e-04 - val_loss: 0.0041 - val_accuracy: 0.0042\n",
      "Epoch 31/50\n",
      "2066/2066 [==============================] - 9s 5ms/sample - loss: 9.6806e-04 - accuracy: 4.8403e-04 - val_loss: 0.0035 - val_accuracy: 0.0042\n",
      "Epoch 32/50\n",
      "2066/2066 [==============================] - 9s 5ms/sample - loss: 9.9406e-04 - accuracy: 4.8403e-04 - val_loss: 0.0044 - val_accuracy: 0.0042\n",
      "Epoch 33/50\n",
      "2066/2066 [==============================] - 9s 4ms/sample - loss: 9.7891e-04 - accuracy: 4.8403e-04 - val_loss: 0.0036 - val_accuracy: 0.0042\n",
      "Epoch 34/50\n",
      "2066/2066 [==============================] - 11s 5ms/sample - loss: 0.0011 - accuracy: 4.8403e-04 - val_loss: 0.0039 - val_accuracy: 0.0042\n",
      "Epoch 35/50\n",
      "2066/2066 [==============================] - 12s 6ms/sample - loss: 9.7495e-04 - accuracy: 4.8403e-04 - val_loss: 0.0034 - val_accuracy: 0.0042\n",
      "Epoch 36/50\n",
      "2066/2066 [==============================] - 13s 6ms/sample - loss: 0.0010 - accuracy: 4.8403e-04 - val_loss: 0.0033 - val_accuracy: 0.0042\n",
      "Epoch 37/50\n",
      "2066/2066 [==============================] - 13s 6ms/sample - loss: 8.6898e-04 - accuracy: 4.8403e-04 - val_loss: 0.0034 - val_accuracy: 0.0042\n",
      "Epoch 38/50\n",
      "2066/2066 [==============================] - 12s 6ms/sample - loss: 0.0010 - accuracy: 4.8403e-04 - val_loss: 0.0040 - val_accuracy: 0.0042\n",
      "Epoch 39/50\n",
      "2066/2066 [==============================] - 10s 5ms/sample - loss: 8.9467e-04 - accuracy: 4.8403e-04 - val_loss: 0.0032 - val_accuracy: 0.0042\n",
      "Epoch 40/50\n",
      "2066/2066 [==============================] - 9s 4ms/sample - loss: 9.4876e-04 - accuracy: 4.8403e-04 - val_loss: 0.0041 - val_accuracy: 0.0042\n",
      "Epoch 41/50\n",
      "2066/2066 [==============================] - 10s 5ms/sample - loss: 9.8315e-04 - accuracy: 4.8403e-04 - val_loss: 0.0032 - val_accuracy: 0.0042\n",
      "Epoch 42/50\n",
      "2066/2066 [==============================] - 9s 5ms/sample - loss: 0.0011 - accuracy: 4.8403e-04 - val_loss: 0.0031 - val_accuracy: 0.0042\n",
      "Epoch 43/50\n",
      "2066/2066 [==============================] - 9s 5ms/sample - loss: 9.0216e-04 - accuracy: 4.8403e-04 - val_loss: 0.0031 - val_accuracy: 0.0042\n",
      "Epoch 44/50\n",
      "2066/2066 [==============================] - 9s 5ms/sample - loss: 0.0012 - accuracy: 4.8403e-04 - val_loss: 0.0030 - val_accuracy: 0.0042\n",
      "Epoch 45/50\n",
      "2066/2066 [==============================] - 9s 5ms/sample - loss: 8.4507e-04 - accuracy: 4.8403e-04 - val_loss: 0.0034 - val_accuracy: 0.0042\n",
      "Epoch 46/50\n",
      "2066/2066 [==============================] - 10s 5ms/sample - loss: 7.4767e-04 - accuracy: 4.8403e-04 - val_loss: 0.0030 - val_accuracy: 0.0042\n",
      "Epoch 47/50\n",
      "2066/2066 [==============================] - 9s 4ms/sample - loss: 9.2206e-04 - accuracy: 4.8403e-04 - val_loss: 0.0031 - val_accuracy: 0.0042\n",
      "Epoch 48/50\n",
      "2066/2066 [==============================] - 9s 4ms/sample - loss: 8.4505e-04 - accuracy: 4.8403e-04 - val_loss: 0.0030 - val_accuracy: 0.0042\n",
      "Epoch 49/50\n",
      "2066/2066 [==============================] - 9s 4ms/sample - loss: 9.7818e-04 - accuracy: 4.8403e-04 - val_loss: 0.0032 - val_accuracy: 0.0042\n",
      "Epoch 50/50\n",
      "2066/2066 [==============================] - 9s 4ms/sample - loss: 9.4191e-04 - accuracy: 4.8403e-04 - val_loss: 0.0029 - val_accuracy: 0.0042\n",
      "<tensorflow.python.keras.callbacks.History object at 0x0000027F09A07748>\n"
     ]
    }
   ],
   "source": [
    "model=tf.keras.Sequential()\n",
    "model.add(tf.keras.layers.LSTM(100,return_sequences=True))\n",
    "model.add(tf.keras.layers.Dropout(0.2))\n",
    "model.add(tf.keras.layers.LSTM(50))\n",
    "model.add(tf.keras.layers.Dropout(0.2))\n",
    "model.add(tf.keras.layers.Dense(1))\n",
    "model.compile(optimizer=tf.keras.optimizers.Adam(0.001),\n",
    "              loss=tf.keras.losses.mean_squared_error\n",
    "            ,metrics=[\"accuracy\"]\n",
    "             )\n",
    "checkpoint_save_path=\"./股票预测/stock_LSTM\"\n",
    "if os.path.exists(checkpoint_save_path+\".index\"):\n",
    "    print(\"-----load model-----\")\n",
    "    model.load_weights(checkpoint_save_path)\n",
    "stock_callbacks=tf.keras.callbacks.ModelCheckpoint(filepath=checkpoint_save_path,\n",
    "                                                  save_best_only=True,\n",
    "                                                 save_weights_only=True,\n",
    "                                                 monitor=\"loss\")\n",
    "train_history=model.fit(train_x, train_y, batch_size=64, epochs=50, validation_data=(test_x, test_y), validation_freq=1,\n",
    "                    callbacks=[stock_callbacks])\n",
    "print(train_history)"
   ]
  },
  {
   "cell_type": "code",
   "execution_count": null,
   "metadata": {},
   "outputs": [],
   "source": []
  }
 ],
 "metadata": {
  "kernelspec": {
   "display_name": "Python 3",
   "language": "python",
   "name": "python3"
  },
  "language_info": {
   "codemirror_mode": {
    "name": "ipython",
    "version": 3
   },
   "file_extension": ".py",
   "mimetype": "text/x-python",
   "name": "python",
   "nbconvert_exporter": "python",
   "pygments_lexer": "ipython3",
   "version": "3.7.7"
  }
 },
 "nbformat": 4,
 "nbformat_minor": 4
}
