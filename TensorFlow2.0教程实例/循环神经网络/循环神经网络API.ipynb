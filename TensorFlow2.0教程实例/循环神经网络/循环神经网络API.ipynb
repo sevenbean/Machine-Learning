{
 "cells": [
  {
   "cell_type": "code",
   "execution_count": null,
   "metadata": {},
   "outputs": [],
   "source": [
    "import tensorflow as tf\n",
    "tf.keras.layers.SimpleRNN(记忆体的个数,\n",
    "                          activation=\"激活函数\",\n",
    "                          return_sequences=\"是否每个时刻输出ht到下一层\")\n",
    "进入RNN时，x_train维度\n",
    "[送入样本数，循环核时间展开步数，每个时间步输入特征个数]\n",
    "tf.keras.layers.Embedding(词汇表大小，编码维度)\n",
    "编码维度就是用几个数字表达一个单词，对1-100 进行编码，[4]编码为[0.25,0.1,0.11]\n",
    "例如：tf.keras.layers.Embedding(100,3)\n",
    "进入Embedding时，x_train的维度：[送入样本数，循环核时间展开步数]\n",
    "tf.keras.layers.LSTM(记忆体的个数，return_sequences=是否返回输出)\n",
    "return_sequences=True 各个时间步输出ht\n",
    "return_sequences=False 仅最后时间步输出ht(默认)\n"
   ]
  }
 ],
 "metadata": {
  "kernelspec": {
   "display_name": "Python 3",
   "language": "python",
   "name": "python3"
  },
  "language_info": {
   "codemirror_mode": {
    "name": "ipython",
    "version": 3
   },
   "file_extension": ".py",
   "mimetype": "text/x-python",
   "name": "python",
   "nbconvert_exporter": "python",
   "pygments_lexer": "ipython3",
   "version": "3.7.7"
  }
 },
 "nbformat": 4,
 "nbformat_minor": 4
}
