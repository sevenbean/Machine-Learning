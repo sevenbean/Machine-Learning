{
 "cells": [
  {
   "cell_type": "code",
   "execution_count": 1,
   "metadata": {},
   "outputs": [
    {
     "name": "stdout",
     "output_type": "stream",
     "text": [
      "(60000, 28, 28)\n",
      "(60000,)\n",
      "(10000, 28, 28)\n",
      "(10000,)\n"
     ]
    }
   ],
   "source": [
    "import tensorflow as tf\n",
    "from tensorflow.keras.datasets import fashion_mnist\n",
    "(train_x,train_y),(test_x,test_y)=fashion_mnist.load_data()\n",
    "print(train_x.shape)\n",
    "print(train_y.shape)\n",
    "print(test_x.shape)\n",
    "print(test_y.shape)"
   ]
  },
  {
   "cell_type": "markdown",
   "metadata": {},
   "source": [
    "数据增强（增大数据量）：\n",
    "image_gen_train=tf.keras.preprocessing.image.ImageDataGenerator(\n",
    "    rescale=所有的数据将乘以该数值\n",
    "    rolation_range=随机旋转角度书数范围\n",
    "    width_shift_range=随机宽度偏移量\n",
    "    height_shift_range=随机高度偏移量\n",
    "    水平翻转:horizontal_flip=是否随机水平翻转\n",
    "    随机缩放:zoom_range=随机缩放的范围[1-n,1+n]\n",
    ")\n",
    "image_gen_train.fit(train_x)"
   ]
  },
  {
   "cell_type": "code",
   "execution_count": 7,
   "metadata": {},
   "outputs": [],
   "source": [
    "train_x=train_x.reshape(train_x.shape[0],28,28,1)\n",
    "image_gen_train=tf.keras.preprocessing.image.ImageDataGenerator(\n",
    "    rescale=1. /1.,#如为图像，分母为255时，可归至0-1\n",
    "    rotation_range=45,#随机旋转45度\n",
    "    width_shift_range=0.15,#宽度偏移\n",
    "    height_shift_range=0.15,#高度偏移\n",
    "    horizontal_flip=True,\n",
    "    zoom_range=0.5 #将图像随机缩放50%\n",
    ")\n",
    "image_gen_train.fit(train_x)"
   ]
  },
  {
   "cell_type": "code",
   "execution_count": null,
   "metadata": {},
   "outputs": [
    {
     "name": "stdout",
     "output_type": "stream",
     "text": [
      "Train for 1200 steps\n",
      "Epoch 1/50\n",
      "1200/1200 [==============================] - 111s 93ms/step - loss: 4.3987 - accuracy: 0.1238\n",
      "Epoch 2/50\n",
      "1200/1200 [==============================] - 124s 103ms/step - loss: 2.6221 - accuracy: 0.1437\n",
      "Epoch 3/50\n",
      "1200/1200 [==============================] - 98s 81ms/step - loss: 2.4677 - accuracy: 0.1465\n",
      "Epoch 4/50\n",
      "1200/1200 [==============================] - 97s 81ms/step - loss: 2.3461 - accuracy: 0.1510\n",
      "Epoch 5/50\n",
      "1200/1200 [==============================] - 109s 91ms/step - loss: 2.2192 - accuracy: 0.1627\n",
      "Epoch 6/50\n",
      "1200/1200 [==============================] - 99s 83ms/step - loss: 2.1737 - accuracy: 0.1639\n",
      "Epoch 7/50\n",
      "1200/1200 [==============================] - 98s 82ms/step - loss: 2.1650 - accuracy: 0.1630\n",
      "Epoch 8/50\n",
      " 505/1200 [===========>..................] - ETA: 1:02 - loss: 2.1505 - accuracy: 0.1644 ETA: 1:04 - loss: 2.1507 - accuracy: 0. - ETA: 1:04 - loss: 2.150 - ETA: 1:03 - loss: 2.1509 - accura"
     ]
    }
   ],
   "source": [
    "model=tf.keras.models.Sequential()\n",
    "model.add(tf.keras.layers.Flatten())\n",
    "model.add(tf.keras.layers.Dense(units=128,activation=\"relu\",kernel_regularizer=tf.keras.regularizers.l2()))\n",
    "model.add(tf.keras.layers.Dense(units=50,activation=\"relu\",kernel_regularizer=tf.keras.regularizers.l2()))\n",
    "model.add(tf.keras.layers.Dense(units=10,activation=\"softmax\"))\n",
    "model.summary\n",
    "model.compile(optimizer=\"adam\",loss=tf.keras.losses.sparse_categorical_crossentropy,metrics=[\"accuracy\"])\n",
    "train_history=model.fit(image_gen_train.flow(train_x,train_y,batch_size=50),validation_freq=20,epochs=50)\n",
    "print(train_history)"
   ]
  },
  {
   "cell_type": "code",
   "execution_count": null,
   "metadata": {},
   "outputs": [],
   "source": []
  }
 ],
 "metadata": {
  "kernelspec": {
   "display_name": "Python 3",
   "language": "python",
   "name": "python3"
  },
  "language_info": {
   "codemirror_mode": {
    "name": "ipython",
    "version": 3
   },
   "file_extension": ".py",
   "mimetype": "text/x-python",
   "name": "python",
   "nbconvert_exporter": "python",
   "pygments_lexer": "ipython3",
   "version": "3.7.7"
  }
 },
 "nbformat": 4,
 "nbformat_minor": 4
}
