{
 "cells": [
  {
   "cell_type": "code",
   "execution_count": null,
   "metadata": {},
   "outputs": [],
   "source": [
    "import tensorflow as tf\n",
    "import os \n",
    "#读取模型\n",
    "load_weights(路径文件名)\n",
    "checkpoint_save_path=\"文件名\"\n",
    "if os.path.exists(checkpoint_save_path+\".index\"):\n",
    "    print(\"-----load the model ---------\")\n",
    "    model.load_weights(callableheckpoint_save_path)\n",
    "cp_callback=tf.keras.callbacks.ModelCheckpoint(filepath=checkpoint_save_path,\n",
    "                                              save_weights_only=True,\n",
    "                                              save_best_only=True)\n",
    "history=model.fit(callbacks=[cp_callback])\n",
    "#可训练参数的提取\n",
    "model.trainable_variables\n",
    "#可以给他写入到文件中\n",
    "with open(\"./weights.txt\",\"w\") as fp:\n",
    "    for v in model.trainable_variables:\n",
    "        fp.write(str(v.name)+\"\\n\")\n",
    "        fp.write(str(v.shape)+'\\n')\n",
    "        fp.write(str(v.numpy())+'\\n')"
   ]
  }
 ],
 "metadata": {
  "kernelspec": {
   "display_name": "Python 3",
   "language": "python",
   "name": "python3"
  },
  "language_info": {
   "codemirror_mode": {
    "name": "ipython",
    "version": 3
   },
   "file_extension": ".py",
   "mimetype": "text/x-python",
   "name": "python",
   "nbconvert_exporter": "python",
   "pygments_lexer": "ipython3",
   "version": "3.7.7"
  }
 },
 "nbformat": 4,
 "nbformat_minor": 4
}
