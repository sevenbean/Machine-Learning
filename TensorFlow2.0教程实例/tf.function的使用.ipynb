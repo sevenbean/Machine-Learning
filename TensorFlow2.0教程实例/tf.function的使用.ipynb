{
 "cells": [
  {
   "cell_type": "code",
   "execution_count": 14,
   "metadata": {},
   "outputs": [
    {
     "name": "stdout",
     "output_type": "stream",
     "text": [
      "tf.Tensor([8. 2. 4.], shape=(3,), dtype=float32)\n"
     ]
    }
   ],
   "source": [
    "'''\n",
    "使用tf.function(函数名)或者@tf.function，可以将普通的python方法，转为tensorflow的代码\n",
    "'''\n",
    "import tensorflow as tf\n",
    "import time\n",
    "\n",
    "# @tf.function\n",
    "def scaled_elu(z,scale=2.0,alpha=1.0):\n",
    "    is_positive=tf.greater(z,0.0)\n",
    "    return scale*tf.where(is_positive,z,alpha)\n",
    "\n",
    "print(scaled_elu(z))"
   ]
  },
  {
   "cell_type": "code",
   "execution_count": 13,
   "metadata": {},
   "outputs": [
    {
     "name": "stdout",
     "output_type": "stream",
     "text": [
      "57.1 ms ± 4.06 ms per loop (mean ± std. dev. of 7 runs, 1 loop each)\n"
     ]
    }
   ],
   "source": [
    "%timeit scaled_elu(tf.constant(tf.random.normal((1000,1000))))"
   ]
  },
  {
   "cell_type": "code",
   "execution_count": 17,
   "metadata": {},
   "outputs": [
    {
     "name": "stdout",
     "output_type": "stream",
     "text": [
      "45.8 ms ± 1.14 ms per loop (mean ± std. dev. of 7 runs, 10 loops each)\n"
     ]
    }
   ],
   "source": [
    "tf.function(scaled_elu)\n",
    "%timeit tf.constant(tf.random.normal((1000,1000)))"
   ]
  },
  {
   "cell_type": "code",
   "execution_count": null,
   "metadata": {},
   "outputs": [],
   "source": []
  }
 ],
 "metadata": {
  "kernelspec": {
   "display_name": "Python 3",
   "language": "python",
   "name": "python3"
  },
  "language_info": {
   "codemirror_mode": {
    "name": "ipython",
    "version": 3
   },
   "file_extension": ".py",
   "mimetype": "text/x-python",
   "name": "python",
   "nbconvert_exporter": "python",
   "pygments_lexer": "ipython3",
   "version": "3.7.7"
  }
 },
 "nbformat": 4,
 "nbformat_minor": 4
}
