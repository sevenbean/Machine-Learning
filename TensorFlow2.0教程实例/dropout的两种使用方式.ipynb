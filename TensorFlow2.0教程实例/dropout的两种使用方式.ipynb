{
 "cells": [
  {
   "cell_type": "code",
   "execution_count": null,
   "metadata": {},
   "outputs": [],
   "source": [
    "import tensorflow as tf\n",
    "model=tf.keras.Sequential()\n",
    "'''\n",
    "AlphaDropout()是比Dropout更加高级的一个的dropout，特点：1均值很方差不会改变\n",
    "2.归一化的之后的规则不会改变\n",
    "'''\n",
    "model.add(tf.keras.layers.AlphaDropout())\n",
    "model.add(tf.keras.layers.Dropout())"
   ]
  }
 ],
 "metadata": {
  "kernelspec": {
   "display_name": "Python 3",
   "language": "python",
   "name": "python3"
  },
  "language_info": {
   "codemirror_mode": {
    "name": "ipython",
    "version": 3
   },
   "file_extension": ".py",
   "mimetype": "text/x-python",
   "name": "python",
   "nbconvert_exporter": "python",
   "pygments_lexer": "ipython3",
   "version": "3.7.7"
  }
 },
 "nbformat": 4,
 "nbformat_minor": 4
}
